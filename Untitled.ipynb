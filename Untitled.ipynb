{
 "cells": [
  {
   "cell_type": "code",
   "execution_count": 1,
   "metadata": {},
   "outputs": [],
   "source": [
    "from app.database import *\n",
    "from app.database.models import *"
   ]
  },
  {
   "cell_type": "code",
   "execution_count": 2,
   "metadata": {},
   "outputs": [],
   "source": [
    "init_db()"
   ]
  },
  {
   "cell_type": "code",
   "execution_count": 3,
   "metadata": {
    "scrolled": false
   },
   "outputs": [
    {
     "data": {
      "text/plain": [
       "<User:None> None"
      ]
     },
     "execution_count": 3,
     "metadata": {},
     "output_type": "execute_result"
    }
   ],
   "source": [
    "User()\n"
   ]
  },
  {
   "cell_type": "code",
   "execution_count": 29,
   "metadata": {},
   "outputs": [],
   "source": [
    "def model_action(action, objs = []):\n",
    "    '''creates a session and executes an db action for db models passed in `objs`'''\n",
    "    \n",
    "    # check that action is supported by function\n",
    "    supported_actions = ['add', 'del']\n",
    "    assert action in supported_actions, f'<Action not supported> Supported Actions: {supported_actions}'\n",
    "    \n",
    "    # create session\n",
    "    sess = db_session()\n",
    "    \n",
    "    # check objs datatype \n",
    "    if not isinstance(objs,list): objs = [objs]\n",
    "    \n",
    "    # execute action for each object in `objs`\n",
    "    for obj in objs:\n",
    "        if   action == 'add': \n",
    "            sess.add(obj); print(f'added {obj}')\n",
    "        elif action == 'del': \n",
    "            sess.delete(obj); print(f'deleted {obj}')\n",
    "            \n",
    "    # commit changes in db\n",
    "    sess.commit()"
   ]
  },
  {
   "cell_type": "code",
   "execution_count": 31,
   "metadata": {},
   "outputs": [],
   "source": [
    "guest = User(username = 'guest')\n",
    "review = Review(text = 'Hello') \n",
    "model  = Model(model_name = 'Vader')\n",
    "tags  = [Tag(label=f'TAG-{i}') for i in range(5)]\n",
    "\n",
    "models = [guest, review, model] + tags"
   ]
  },
  {
   "cell_type": "code",
   "execution_count": 34,
   "metadata": {},
   "outputs": [
    {
     "name": "stdout",
     "output_type": "stream",
     "text": [
      "<class 'app.database.models.User'>\n",
      "added <User:None> guest\n",
      "<class 'app.database.models.Review'>\n",
      "added <Model:None> \n",
      "Hello\n",
      "<class 'app.database.models.Model'>\n",
      "added <Model:None> Vader\n",
      "<class 'app.database.models.Tag'>\n",
      "added <Tag:None> TAG-0, None\n",
      "<class 'app.database.models.Tag'>\n",
      "added <Tag:None> TAG-1, None\n",
      "<class 'app.database.models.Tag'>\n",
      "added <Tag:None> TAG-2, None\n",
      "<class 'app.database.models.Tag'>\n",
      "added <Tag:None> TAG-3, None\n",
      "<class 'app.database.models.Tag'>\n",
      "added <Tag:None> TAG-4, None\n"
     ]
    }
   ],
   "source": [
    "for m in models:\n",
    "    model_action('add', m)\n"
   ]
  },
  {
   "cell_type": "code",
   "execution_count": 28,
   "metadata": {},
   "outputs": [
    {
     "data": {
      "text/plain": [
       "False"
      ]
     },
     "execution_count": 28,
     "metadata": {},
     "output_type": "execute_result"
    }
   ],
   "source": [
    "isinstance(users,list)"
   ]
  },
  {
   "cell_type": "code",
   "execution_count": 37,
   "metadata": {},
   "outputs": [],
   "source": [
    "sess.close()"
   ]
  },
  {
   "cell_type": "code",
   "execution_count": null,
   "metadata": {},
   "outputs": [],
   "source": []
  }
 ],
 "metadata": {
  "kernelspec": {
   "display_name": "Python 3",
   "language": "python",
   "name": "python3"
  },
  "language_info": {
   "codemirror_mode": {
    "name": "ipython",
    "version": 3
   },
   "file_extension": ".py",
   "mimetype": "text/x-python",
   "name": "python",
   "nbconvert_exporter": "python",
   "pygments_lexer": "ipython3",
   "version": "3.6.9"
  }
 },
 "nbformat": 4,
 "nbformat_minor": 2
}
